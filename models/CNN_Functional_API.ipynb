{
 "cells": [
  {
   "cell_type": "code",
   "execution_count": 1,
   "metadata": {},
   "outputs": [
    {
     "name": "stderr",
     "output_type": "stream",
     "text": [
      "/Users/jinli/anaconda3/lib/python3.6/site-packages/h5py/__init__.py:34: FutureWarning: Conversion of the second argument of issubdtype from `float` to `np.floating` is deprecated. In future, it will be treated as `np.float64 == np.dtype(float).type`.\n",
      "  from ._conv import register_converters as _register_converters\n",
      "Using TensorFlow backend.\n"
     ]
    },
    {
     "name": "stdout",
     "output_type": "stream",
     "text": [
      "Size of Train Set is: 40000\n",
      "Size of Validation Set is: 10000\n",
      "Size of Test Set is: 10000\n"
     ]
    }
   ],
   "source": [
    "import numpy as np\n",
    "import pandas as pd\n",
    "from matplotlib import pyplot as plt\n",
    "\n",
    "from keras import layers, models\n",
    "from keras import regularizers\n",
    "from keras.layers.normalization import BatchNormalization\n",
    "\n",
    "import train_valid_test as tvt\n",
    "import plotting"
   ]
  },
  {
   "cell_type": "code",
   "execution_count": 15,
   "metadata": {
    "collapsed": true
   },
   "outputs": [],
   "source": [
    "batch_size = 100\n",
    "epochs = 30"
   ]
  },
  {
   "cell_type": "code",
   "execution_count": 3,
   "metadata": {
    "collapsed": true
   },
   "outputs": [],
   "source": [
    "# inception V3 module\n",
    "\n",
    "def inception_module (x):\n",
    "    \"\"\"\n",
    "    Create the inception V3 module\n",
    "    \n",
    "    :param x: Tensor input continuing from the chain\n",
    "    :type  x: tensorflow.python.framework.ops.Tensor\n",
    "    \n",
    "    :return: The concatenated output of the four branches\n",
    "    :rtype:  tensorflow.python.framework.ops.Tensor\n",
    "    \"\"\"\n",
    "    \n",
    "    branch_a = layers.Conv2D(\n",
    "        128,\n",
    "        1,\n",
    "        activation='relu',\n",
    "        strides=2,\n",
    "        padding=\"same\"\n",
    "    )(x)\n",
    "\n",
    "    branch_b = layers.Conv2D(\n",
    "        128,\n",
    "        1,\n",
    "        activation='relu'\n",
    "    )(x)\n",
    "    branch_b = layers.Conv2D(\n",
    "        128,\n",
    "        3,\n",
    "        activation='relu',\n",
    "        strides=2,\n",
    "        padding=\"same\"\n",
    "    )(branch_b)\n",
    "\n",
    "    branch_c = layers.AveragePooling2D(\n",
    "        3,\n",
    "        strides=2,\n",
    "        padding=\"same\"\n",
    "    )(x)\n",
    "    branch_c = layers.Conv2D(\n",
    "        128,\n",
    "        3,\n",
    "        activation='relu',\n",
    "        padding=\"same\"\n",
    "    )(branch_c)\n",
    "\n",
    "    branch_d = layers.Conv2D(\n",
    "        128,\n",
    "        1,\n",
    "        activation='relu'\n",
    "    )(x)\n",
    "    branch_d = layers.Conv2D(\n",
    "        128,\n",
    "        3,\n",
    "        activation='relu',\n",
    "        padding=\"same\"\n",
    "    )(branch_d)\n",
    "    branch_d = layers.Conv2D(\n",
    "        128,\n",
    "        3,\n",
    "        activation='relu',\n",
    "        strides=2,\n",
    "        padding=\"same\"\n",
    "    )(branch_d)\n",
    "\n",
    "    output = layers.concatenate(\n",
    "        [branch_a, branch_b, branch_c, branch_d],\n",
    "        name=\"Inception_V3\"\n",
    "    )\n",
    "    return output"
   ]
  },
  {
   "cell_type": "code",
   "execution_count": 4,
   "metadata": {},
   "outputs": [
    {
     "name": "stdout",
     "output_type": "stream",
     "text": [
      "\n"
     ]
    }
   ],
   "source": [
    "\"\"\"\n",
    "# Example of skip connection (residual connections) if I want to apply:\n",
    "x = ...\n",
    "y = layers.Conv2D(128, 3, activation='relu',)(x)\n",
    "y = layers.Conv2D(128, 3, activation='relu',)(y)\n",
    "\n",
    "y = layers.add([y, x])\n",
    "\"\"\"\n",
    "print('')"
   ]
  },
  {
   "cell_type": "code",
   "execution_count": 12,
   "metadata": {},
   "outputs": [
    {
     "name": "stdout",
     "output_type": "stream",
     "text": [
      "__________________________________________________________________________________________________\n",
      "Layer (type)                    Output Shape         Param #     Connected to                     \n",
      "==================================================================================================\n",
      "input_8 (InputLayer)            (None, 32, 32, 3)    0                                            \n",
      "__________________________________________________________________________________________________\n",
      "conv2d_8 (Conv2D)               (None, 27, 27, 32)   3488        input_8[0][0]                    \n",
      "__________________________________________________________________________________________________\n",
      "max_pooling2d_18 (MaxPooling2D) (None, 14, 14, 32)   0           conv2d_8[0][0]                   \n",
      "__________________________________________________________________________________________________\n",
      "batch_normalization_18 (BatchNo (None, 14, 14, 32)   128         max_pooling2d_18[0][0]           \n",
      "__________________________________________________________________________________________________\n",
      "separable_conv2d_12 (SeparableC (None, 12, 12, 64)   2400        batch_normalization_18[0][0]     \n",
      "__________________________________________________________________________________________________\n",
      "max_pooling2d_19 (MaxPooling2D) (None, 6, 6, 64)     0           separable_conv2d_12[0][0]        \n",
      "__________________________________________________________________________________________________\n",
      "batch_normalization_19 (BatchNo (None, 6, 6, 64)     256         max_pooling2d_19[0][0]           \n",
      "__________________________________________________________________________________________________\n",
      "separable_conv2d_13 (SeparableC (None, 4, 4, 128)    8896        batch_normalization_19[0][0]     \n",
      "__________________________________________________________________________________________________\n",
      "max_pooling2d_20 (MaxPooling2D) (None, 2, 2, 128)    0           separable_conv2d_13[0][0]        \n",
      "__________________________________________________________________________________________________\n",
      "batch_normalization_20 (BatchNo (None, 2, 2, 128)    512         max_pooling2d_20[0][0]           \n",
      "__________________________________________________________________________________________________\n",
      "flatten_8 (Flatten)             (None, 512)          0           batch_normalization_20[0][0]     \n",
      "__________________________________________________________________________________________________\n",
      "dense_8 (Dense)                 (None, 128)          65664       flatten_8[0][0]                  \n",
      "__________________________________________________________________________________________________\n",
      "Drop-Out (Dropout)              (None, 128)          0           dense_8[0][0]                    \n",
      "__________________________________________________________________________________________________\n",
      "class (Dense)                   (None, 100)          12900       Drop-Out[0][0]                   \n",
      "__________________________________________________________________________________________________\n",
      "superclass (Dense)              (None, 20)           2580        Drop-Out[0][0]                   \n",
      "==================================================================================================\n",
      "Total params: 96,824\n",
      "Trainable params: 96,376\n",
      "Non-trainable params: 448\n",
      "__________________________________________________________________________________________________\n"
     ]
    }
   ],
   "source": [
    "from keras import Input\n",
    "from keras.models import Model\n",
    "\n",
    "\n",
    "def create_model():\n",
    "    input_tensor = Input(shape=(32, 32, 3))\n",
    "\n",
    "    x = layers.Conv2D(\n",
    "        32,\n",
    "        (6, 6),\n",
    "        activation='relu',\n",
    "    )(input_tensor)\n",
    "\n",
    "    x = layers.MaxPool2D(\n",
    "        (2, 2),\n",
    "        padding=\"same\"\n",
    "    )(x)\n",
    "\n",
    "    x = BatchNormalization(\n",
    "    )(x)\n",
    "\n",
    "    x = layers.SeparableConv2D(\n",
    "        64,\n",
    "        3,\n",
    "        activation='relu',\n",
    "    )(x)\n",
    "\n",
    "    x = layers.MaxPool2D(\n",
    "        (2, 2),\n",
    "        padding=\"same\"\n",
    "    )(x)\n",
    "\n",
    "    x = BatchNormalization(\n",
    "    )(x)\n",
    "\n",
    "    x = layers.SeparableConv2D(\n",
    "        128,\n",
    "        3,\n",
    "        activation='relu',\n",
    "    )(x)\n",
    "\n",
    "    x = layers.MaxPool2D(\n",
    "        (2, 2),\n",
    "        padding=\"same\"\n",
    "    )(x)\n",
    "\n",
    "    x = BatchNormalization(\n",
    "    )(x)\n",
    "    #x = inception_module (x)\n",
    "\n",
    "    x = layers.Flatten(\n",
    "    )(x)\n",
    "\n",
    "    x = layers.Dense(\n",
    "        128,\n",
    "        activation='relu',\n",
    "        kernel_regularizer=regularizers.l2(0.001),\n",
    "        #kernel_regularizer=regularizers.l1_l2(l1=0.001, l2=0.001),\n",
    "    )(x)\n",
    "\n",
    "    x = layers.Dropout(\n",
    "        0.5,\n",
    "        name=\"Drop-Out\"\n",
    "    )(x)\n",
    "\n",
    "    class_pred = layers.Dense(\n",
    "        100,\n",
    "        activation='softmax',\n",
    "        name='class'\n",
    "    )(x)\n",
    "\n",
    "    superclass_pred = layers.Dense(\n",
    "        20,\n",
    "        activation='softmax',\n",
    "        name='superclass'\n",
    "    )(x)\n",
    "\n",
    "    model = Model(\n",
    "        input_tensor,\n",
    "        [class_pred, superclass_pred]\n",
    "    )\n",
    "    return model\n",
    "\n",
    "\n",
    "model = create_model()\n",
    "model.summary()"
   ]
  },
  {
   "cell_type": "code",
   "execution_count": 13,
   "metadata": {
    "collapsed": true
   },
   "outputs": [],
   "source": [
    "# data augmentation\n",
    "from keras.preprocessing.image import ImageDataGenerator\n",
    "\n",
    "\n",
    "def generate_data_generator(generator, X, Y1, Y2, batch_size):\n",
    "    genY1 = generator.flow(\n",
    "        X,\n",
    "        Y1,\n",
    "        batch_size=batch_size,\n",
    "        seed=7\n",
    "    )\n",
    "    genY2 = generator.flow(\n",
    "        X,\n",
    "        Y2,\n",
    "        batch_size=batch_size,\n",
    "        seed=7)\n",
    "\n",
    "    while True:\n",
    "        Yi1 = genY1.next()\n",
    "        Yi2 = genY2.next()\n",
    "        yield Yi1[0], {'class': Yi1[1], 'superclass': Yi2[1]}\n",
    "\n",
    "\n",
    "train_datagen = ImageDataGenerator(\n",
    "    width_shift_range=0.2,\n",
    "    height_shift_range=0.2,\n",
    "    shear_range=0.2,\n",
    "    zoom_range=0.2,\n",
    "    rotation_range=30,\n",
    "    horizontal_flip=True,\n",
    "    vertical_flip=True,\n",
    "    fill_mode='nearest'\n",
    ")\n",
    "\n",
    "valid_datagen = ImageDataGenerator()"
   ]
  },
  {
   "cell_type": "code",
   "execution_count": 14,
   "metadata": {},
   "outputs": [],
   "source": [
    "from keras.callbacks import ModelCheckpoint, LearningRateScheduler, \\\n",
    "    EarlyStopping, ReduceLROnPlateau, TensorBoard\n",
    "\n",
    "weight_path = \"{}_weights.best.hdf5\".format('CNN2')\n",
    "\n",
    "checkpoint = ModelCheckpoint(\n",
    "    weight_path,\n",
    "    monitor='val_loss',\n",
    "    verbose=1,\n",
    "    save_best_only=True,\n",
    "    mode='min',\n",
    "    save_weights_only=True\n",
    ")\n",
    "\n",
    "tensorboard = TensorBoard(\n",
    "    log_dir='Logs',\n",
    "    \n",
    "    # ValueError: If printing histograms, validation_data must be provided, \n",
    "    #and cannot be a generator.\n",
    "    #histogram_freq=5, # records activation histogram every n epoch\n",
    ")\n",
    "\n",
    "reduceLROnPlat = ReduceLROnPlateau(\n",
    "    monitor='val_loss', \n",
    "    factor=0.2,\n",
    "    patience=1, \n",
    "    verbose=1,\n",
    "    mode='min',\n",
    "    min_delta=0.0001, \n",
    "    cooldown=2, \n",
    "    min_lr=1e-7\n",
    ")\n",
    "\n",
    "\n",
    "def step_decay(epoch):\n",
    "    initial_lrate = 0.0001\n",
    "    drop = 0.5\n",
    "    epochs_drop = 10.0\n",
    "    lrate = initial_lrate * math.pow(drop, math.floor((1+epoch)/epochs_drop))\n",
    "    return lrate\n",
    "\n",
    "\n",
    "lrate = LearningRateScheduler(step_decay)  # can place this in call_backs_list\n",
    "\n",
    "early = EarlyStopping(\n",
    "    monitor=\"val_loss\",\n",
    "    #monitor='acc'\n",
    "    mode=\"min\",\n",
    "    verbose=2,\n",
    "    # training is interrupted when the monitor argument stops improving after n steps\n",
    "    patience=5\n",
    ")\n",
    "\n",
    "callbacks_list = [checkpoint, early, reduceLROnPlat, tensorboard]"
   ]
  },
  {
   "cell_type": "code",
   "execution_count": 16,
   "metadata": {
    "collapsed": true
   },
   "outputs": [],
   "source": [
    "from keras import optimizers\n",
    "model.compile(\n",
    "    # optimizer='rmsprop',\n",
    "    optimizer=optimizers.RMSprop(lr=1e-4),\n",
    "    loss={\n",
    "        'class': 'categorical_crossentropy',\n",
    "        'superclass': 'categorical_crossentropy'\n",
    "    },\n",
    "    loss_weights={\n",
    "        'class': 1,\n",
    "        'superclass': 1\n",
    "    },\n",
    "    metrics=['accuracy']\n",
    ")"
   ]
  },
  {
   "cell_type": "code",
   "execution_count": 17,
   "metadata": {},
   "outputs": [
    {
     "name": "stdout",
     "output_type": "stream",
     "text": [
      "Epoch 1/30\n",
      "400/400 [==============================] - 100s 250ms/step - loss: 8.2929 - class_loss: 4.8722 - superclass_loss: 3.2213 - class_acc: 0.0155 - superclass_acc: 0.0945 - val_loss: 7.4817 - val_class_loss: 4.5105 - val_superclass_loss: 2.7756 - val_class_acc: 0.0300 - val_superclass_acc: 0.1635\n",
      "\n",
      "Epoch 00001: val_loss improved from inf to 7.48170, saving model to CNN2_weights.best.hdf5\n",
      "Epoch 2/30\n",
      "400/400 [==============================] - 84s 211ms/step - loss: 7.6197 - class_loss: 4.5471 - superclass_loss: 2.8797 - class_acc: 0.0305 - superclass_acc: 0.1356 - val_loss: 7.1383 - val_class_loss: 4.3012 - val_superclass_loss: 2.6465 - val_class_acc: 0.0613 - val_superclass_acc: 0.1940\n",
      "\n",
      "Epoch 00002: val_loss improved from 7.48170 to 7.13835, saving model to CNN2_weights.best.hdf5\n",
      "Epoch 3/30\n",
      "400/400 [==============================] - 81s 203ms/step - loss: 7.3640 - class_loss: 4.3929 - superclass_loss: 2.7826 - class_acc: 0.0445 - superclass_acc: 0.1575 - val_loss: 7.0178 - val_class_loss: 4.2074 - val_superclass_loss: 2.6237 - val_class_acc: 0.0723 - val_superclass_acc: 0.1953\n",
      "\n",
      "Epoch 00003: val_loss improved from 7.13835 to 7.01781, saving model to CNN2_weights.best.hdf5\n",
      "Epoch 4/30\n",
      "400/400 [==============================] - 82s 206ms/step - loss: 7.1992 - class_loss: 4.2908 - superclass_loss: 2.7235 - class_acc: 0.0557 - superclass_acc: 0.1697 - val_loss: 6.7848 - val_class_loss: 4.0742 - val_superclass_loss: 2.5274 - val_class_acc: 0.0876 - val_superclass_acc: 0.2294\n",
      "\n",
      "Epoch 00004: val_loss improved from 7.01781 to 6.78483, saving model to CNN2_weights.best.hdf5\n",
      "Epoch 5/30\n",
      "400/400 [==============================] - 83s 206ms/step - loss: 7.0697 - class_loss: 4.2088 - superclass_loss: 2.6794 - class_acc: 0.0633 - superclass_acc: 0.1846 - val_loss: 6.6467 - val_class_loss: 3.9818 - val_superclass_loss: 2.4847 - val_class_acc: 0.0992 - val_superclass_acc: 0.2381\n",
      "\n",
      "Epoch 00005: val_loss improved from 6.78483 to 6.64667, saving model to CNN2_weights.best.hdf5\n",
      "Epoch 6/30\n",
      "400/400 [==============================] - 82s 205ms/step - loss: 6.9657 - class_loss: 4.1428 - superclass_loss: 2.6442 - class_acc: 0.0677 - superclass_acc: 0.1911 - val_loss: 6.5933 - val_class_loss: 3.9460 - val_superclass_loss: 2.4701 - val_class_acc: 0.1047 - val_superclass_acc: 0.2392\n",
      "\n",
      "Epoch 00006: val_loss improved from 6.64667 to 6.59325, saving model to CNN2_weights.best.hdf5\n",
      "Epoch 7/30\n",
      "400/400 [==============================] - 82s 206ms/step - loss: 6.8811 - class_loss: 4.0865 - superclass_loss: 2.6188 - class_acc: 0.0753 - superclass_acc: 0.1973 - val_loss: 6.4705 - val_class_loss: 3.8683 - val_superclass_loss: 2.4279 - val_class_acc: 0.1126 - val_superclass_acc: 0.2554\n",
      "\n",
      "Epoch 00007: val_loss improved from 6.59325 to 6.47055, saving model to CNN2_weights.best.hdf5\n",
      "Epoch 8/30\n",
      "400/400 [==============================] - 83s 208ms/step - loss: 6.8068 - class_loss: 4.0398 - superclass_loss: 2.5941 - class_acc: 0.0820 - superclass_acc: 0.2042 - val_loss: 6.3995 - val_class_loss: 3.8274 - val_superclass_loss: 2.4003 - val_class_acc: 0.1229 - val_superclass_acc: 0.2666\n",
      "\n",
      "Epoch 00008: val_loss improved from 6.47055 to 6.39950, saving model to CNN2_weights.best.hdf5\n",
      "Epoch 9/30\n",
      "400/400 [==============================] - 83s 209ms/step - loss: 6.7350 - class_loss: 3.9920 - superclass_loss: 2.5725 - class_acc: 0.0876 - superclass_acc: 0.2116 - val_loss: 6.3915 - val_class_loss: 3.8110 - val_superclass_loss: 2.4113 - val_class_acc: 0.1212 - val_superclass_acc: 0.2594\n",
      "\n",
      "Epoch 00009: val_loss improved from 6.39950 to 6.39153, saving model to CNN2_weights.best.hdf5\n",
      "Epoch 10/30\n",
      "400/400 [==============================] - 84s 209ms/step - loss: 6.6750 - class_loss: 3.9562 - superclass_loss: 2.5507 - class_acc: 0.0902 - superclass_acc: 0.2150 - val_loss: 6.4265 - val_class_loss: 3.8291 - val_superclass_loss: 2.4306 - val_class_acc: 0.1106 - val_superclass_acc: 0.2520\n",
      "\n",
      "Epoch 00010: val_loss did not improve from 6.39153\n",
      "\n",
      "Epoch 00010: ReduceLROnPlateau reducing learning rate to 1.9999999494757503e-05.\n",
      "Epoch 11/30\n",
      "400/400 [==============================] - 84s 210ms/step - loss: 6.6293 - class_loss: 3.9354 - superclass_loss: 2.5273 - class_acc: 0.0957 - superclass_acc: 0.2222 - val_loss: 6.2666 - val_class_loss: 3.7390 - val_superclass_loss: 2.3613 - val_class_acc: 0.1328 - val_superclass_acc: 0.2790\n",
      "\n",
      "Epoch 00011: val_loss improved from 6.39153 to 6.26660, saving model to CNN2_weights.best.hdf5\n",
      "Epoch 12/30\n",
      "400/400 [==============================] - 83s 208ms/step - loss: 6.6067 - class_loss: 3.9209 - superclass_loss: 2.5197 - class_acc: 0.0976 - superclass_acc: 0.2263 - val_loss: 6.2099 - val_class_loss: 3.7046 - val_superclass_loss: 2.3396 - val_class_acc: 0.1372 - val_superclass_acc: 0.2808\n",
      "\n",
      "Epoch 00012: val_loss improved from 6.26660 to 6.20994, saving model to CNN2_weights.best.hdf5\n",
      "Epoch 13/30\n",
      "400/400 [==============================] - 90s 225ms/step - loss: 6.5956 - class_loss: 3.9153 - superclass_loss: 2.5147 - class_acc: 0.0978 - superclass_acc: 0.2285 - val_loss: 6.2532 - val_class_loss: 3.7299 - val_superclass_loss: 2.3579 - val_class_acc: 0.1322 - val_superclass_acc: 0.2765\n",
      "\n",
      "Epoch 00013: val_loss did not improve from 6.20994\n",
      "\n",
      "Epoch 00013: ReduceLROnPlateau reducing learning rate to 3.999999898951501e-06.\n",
      "Epoch 14/30\n",
      "400/400 [==============================] - 86s 215ms/step - loss: 6.5874 - class_loss: 3.9096 - superclass_loss: 2.5125 - class_acc: 0.0996 - superclass_acc: 0.2285 - val_loss: 6.2297 - val_class_loss: 3.7161 - val_superclass_loss: 2.3483 - val_class_acc: 0.1350 - val_superclass_acc: 0.2819\n",
      "\n",
      "Epoch 00014: val_loss did not improve from 6.20994\n",
      "Epoch 15/30\n",
      "400/400 [==============================] - 98s 245ms/step - loss: 6.5871 - class_loss: 3.9092 - superclass_loss: 2.5127 - class_acc: 0.0983 - superclass_acc: 0.2275 - val_loss: 6.2304 - val_class_loss: 3.7166 - val_superclass_loss: 2.3486 - val_class_acc: 0.1341 - val_superclass_acc: 0.2832\n",
      "\n",
      "Epoch 00015: val_loss did not improve from 6.20994\n",
      "\n",
      "Epoch 00015: ReduceLROnPlateau reducing learning rate to 7.999999979801942e-07.\n",
      "Epoch 16/30\n",
      "400/400 [==============================] - 102s 254ms/step - loss: 6.5837 - class_loss: 3.9059 - superclass_loss: 2.5126 - class_acc: 0.1018 - superclass_acc: 0.2290 - val_loss: 6.2222 - val_class_loss: 3.7119 - val_superclass_loss: 2.3450 - val_class_acc: 0.1359 - val_superclass_acc: 0.2829\n",
      "\n",
      "Epoch 00016: val_loss did not improve from 6.20994\n",
      "Epoch 17/30\n",
      "400/400 [==============================] - 106s 265ms/step - loss: 6.5928 - class_loss: 3.9117 - superclass_loss: 2.5159 - class_acc: 0.0987 - superclass_acc: 0.2247 - val_loss: 6.2286 - val_class_loss: 3.7157 - val_superclass_loss: 2.3478 - val_class_acc: 0.1342 - val_superclass_acc: 0.2813\n",
      "\n",
      "Epoch 00017: val_loss did not improve from 6.20994\n",
      "\n",
      "Epoch 00017: ReduceLROnPlateau reducing learning rate to 1.600000018697756e-07.\n",
      "Epoch 00017: early stopping\n"
     ]
    }
   ],
   "source": [
    "history = model.fit_generator(\n",
    "    generate_data_generator(\n",
    "        train_datagen, \n",
    "        tvt.train_X, \n",
    "        tvt.train_fine_y, \n",
    "        tvt.train_coarse_y,\n",
    "        batch_size=batch_size\n",
    "    ),\n",
    "    validation_data=generate_data_generator(\n",
    "        valid_datagen, \n",
    "        tvt.valid_X, \n",
    "        tvt.valid_fine_y, \n",
    "        tvt.valid_coarse_y,\n",
    "        batch_size=batch_size\n",
    "    ),\n",
    "    steps_per_epoch= round (len(tvt.train_X) / batch_size),\n",
    "    #steps_per_epoch=50,\n",
    "    epochs=epochs,\n",
    "    validation_steps=round (len(tvt.valid_X) / batch_size),\n",
    "    #validation_steps=5,\n",
    "    callbacks=callbacks_list\n",
    ")"
   ]
  },
  {
   "cell_type": "code",
   "execution_count": 18,
   "metadata": {},
   "outputs": [
    {
     "name": "stdout",
     "output_type": "stream",
     "text": [
      "10000/10000 [==============================] - 8s 841us/step\n"
     ]
    },
    {
     "data": {
      "text/plain": [
       "[6.241564783477783, 3.7196286643981935, 2.356784521484375, 0.1392, 0.2761]"
      ]
     },
     "execution_count": 18,
     "metadata": {},
     "output_type": "execute_result"
    }
   ],
   "source": [
    "model.evaluate(tvt.test_X, {'class': tvt.test_fine_y, 'superclass': tvt.test_coarse_y})"
   ]
  },
  {
   "cell_type": "code",
   "execution_count": 19,
   "metadata": {},
   "outputs": [
    {
     "data": {
      "image/png": "[encoded data removed]",
      "text/plain": [
       "<matplotlib.figure.Figure at 0x1c86860dd8>"
      ]
     },
     "metadata": {},
     "output_type": "display_data"
    }
   ],
   "source": [
    "plotting.plot_loss(history)"
   ]
  },
  {
   "cell_type": "code",
   "execution_count": 20,
   "metadata": {},
   "outputs": [
    {
     "data": {
      "image/png": "[encoded data removed]",
      "text/plain": [
       "<matplotlib.figure.Figure at 0x1c86f2f2b0>"
      ]
     },
     "metadata": {},
     "output_type": "display_data"
    }
   ],
   "source": [
    "plt.clf()\n",
    "plotting.plot_acc(\n",
    "    history, \n",
    "    acc='class_acc',\n",
    "    val_acc='val_class_acc'\n",
    ")"
   ]
  },
  {
   "cell_type": "code",
   "execution_count": null,
   "metadata": {},
   "outputs": [],
   "source": []
  },
  {
   "cell_type": "code",
   "execution_count": null,
   "metadata": {},
   "outputs": [],
   "source": [
    "!tensorboard --logdir=Logs\n",
    "# http://localhost:6006/"
   ]
  },
  {
   "cell_type": "code",
   "execution_count": null,
   "metadata": {
    "collapsed": true
   },
   "outputs": [],
   "source": []
  },
  {
   "cell_type": "code",
   "execution_count": null,
   "metadata": {},
   "outputs": [],
   "source": [
    "from keras.utils import plot_model\n",
    "plot_model(\n",
    "    model, \n",
    "    show_shapes=True, \n",
    "    to_file='images/model.png'\n",
    ")"
   ]
  },
  {
   "cell_type": "code",
   "execution_count": null,
   "metadata": {
    "collapsed": true
   },
   "outputs": [],
   "source": []
  }
 ],
 "metadata": {
  "kernelspec": {
   "display_name": "Python 3",
   "language": "python",
   "name": "python3"
  },
  "language_info": {
   "codemirror_mode": {
    "name": "ipython",
    "version": 3
   },
   "file_extension": ".py",
   "mimetype": "text/x-python",
   "name": "python",
   "nbconvert_exporter": "python",
   "pygments_lexer": "ipython3",
   "version": "3.6.3"
  },
  "toc": {
   "base_numbering": 1,
   "nav_menu": {},
   "number_sections": true,
   "sideBar": true,
   "skip_h1_title": false,
   "title_cell": "Table of Contents",
   "title_sidebar": "Contents",
   "toc_cell": false,
   "toc_position": {},
   "toc_section_display": true,
   "toc_window_display": false
  }
 },
 "nbformat": 4,
 "nbformat_minor": 2
}
