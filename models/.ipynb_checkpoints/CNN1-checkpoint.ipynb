{
 "cells": [
  {
   "cell_type": "code",
   "execution_count": 1,
   "metadata": {},
   "outputs": [
    {
     "name": "stderr",
     "output_type": "stream",
     "text": [
      "/Users/jinli/anaconda3/lib/python3.6/site-packages/h5py/__init__.py:34: FutureWarning: Conversion of the second argument of issubdtype from `float` to `np.floating` is deprecated. In future, it will be treated as `np.float64 == np.dtype(float).type`.\n",
      "  from ._conv import register_converters as _register_converters\n",
      "Using TensorFlow backend.\n"
     ]
    }
   ],
   "source": [
    "import numpy as np\n",
    "import pandas as pd\n",
    "from matplotlib import pyplot as plt\n",
    "import sys\n",
    "sys.path.insert(0, '../')\n",
    "import get_data\n",
    "# include requirements.txt\n",
    "\n",
    "from keras import layers, models\n",
    "from keras import regularizers\n",
    "from keras.layers.normalization import BatchNormalization"
   ]
  },
  {
   "cell_type": "code",
   "execution_count": 2,
   "metadata": {
    "collapsed": true
   },
   "outputs": [],
   "source": [
    "train = get_data.unpickle('../data/train')\n",
    "meta = get_data.unpickle('../data/meta')\n",
    "test = get_data.unpickle('../data/test')"
   ]
  },
  {
   "cell_type": "code",
   "execution_count": 3,
   "metadata": {
    "collapsed": true
   },
   "outputs": [],
   "source": [
    "# map number assignment (position in the list) to label\n",
    "# \"fine\" label  : the class to which it belongs\n",
    "# \"coarse\" label: the superclass to which it belongs\n",
    "\n",
    "fine_labels = get_data.decode_list(meta, b'fine_label_names')\n",
    "coarse_labels = get_data.decode_list(meta, b'coarse_label_names')"
   ]
  },
  {
   "cell_type": "code",
   "execution_count": 4,
   "metadata": {},
   "outputs": [
    {
     "data": {
      "text/plain": [
       "dict_keys([b'filenames', b'batch_label', b'fine_labels', b'coarse_labels', b'data'])"
      ]
     },
     "execution_count": 4,
     "metadata": {},
     "output_type": "execute_result"
    }
   ],
   "source": [
    "train.keys()"
   ]
  },
  {
   "cell_type": "code",
   "execution_count": null,
   "metadata": {},
   "outputs": [],
   "source": []
  },
  {
   "cell_type": "code",
   "execution_count": 5,
   "metadata": {},
   "outputs": [],
   "source": [
    "def train_validate_test (train, test, valid_size=.2):\n",
    "    \n",
    "    \"\"\"\n",
    "    :param train: a dictionary of the train set items \n",
    "    :type  train: dict\n",
    "    :param test: a dictionary of the test set items\n",
    "    :type  test: dict\n",
    "    :param valid_size: The proportion of the validation set in decimal\n",
    "    :type  valid_size: float\n",
    "    :return: Train, validation, and test set for image, class, and superclass\n",
    "    :rtype:  (numpy.ndarray, numpy.ndarray, numpy.ndarray, \n",
    "              numpy.ndarray, numpy.ndarray, numpy.ndarray, \n",
    "              numpy.ndarray, numpy.ndarray, numpy.ndarray)\n",
    "    \"\"\"\n",
    "    \n",
    "    \n",
    "    X = train[b'data'] / 255 # constant scale\n",
    "    X = X.reshape([-1,3,32,32]).transpose([0,2,3,1]) \n",
    "    fine_y = train[b'fine_labels']\n",
    "    coarse_y = train[b'coarse_labels']\n",
    "    \n",
    "    valid_index = round (X.shape[0] * valid_size)\n",
    "    valid_X, train_X = X[:valid_index], X[valid_index:]\n",
    "    \n",
    "    valid_fine_y, train_fine_y = fine_y[:valid_index], fine_y[valid_index:]\n",
    "    valid_coarse_y, train_coarse_y = coarse_y[:valid_index], coarse_y[valid_index:]\n",
    "    \n",
    "    test_X = test[b'data'] / 255\n",
    "    test_X = test_X.reshape([-1,3,32,32]).transpose([0,2,3,1])\n",
    "    test_fine_y = test[b'fine_labels']\n",
    "    test_coarse_y = test[b'coarse_labels']\n",
    "    \n",
    "    # change to one-hot\n",
    "    from keras.utils import to_categorical\n",
    "    valid_fine_y   = to_categorical (valid_fine_y)\n",
    "    valid_coarse_y = to_categorical (valid_coarse_y)\n",
    "    train_fine_y   = to_categorical (train_fine_y)\n",
    "    train_coarse_y = to_categorical (train_coarse_y)\n",
    "    test_fine_y    = to_categorical (test_fine_y)\n",
    "    test_coarse_y  = to_categorical (test_coarse_y)\n",
    "    \n",
    "    print ('Size of Train Set is: {}'.format(train_X.shape[0]) )\n",
    "    print ('Size of Validation Set is: {}'.format(valid_X.shape[0]) )\n",
    "    print ('Size of Test Set is: {}'.format(test_X.shape[0]) )\n",
    "    \n",
    "    return (train_X, train_fine_y, train_coarse_y,\n",
    "            valid_X, valid_fine_y, valid_coarse_y,\n",
    "            test_X, test_fine_y, test_coarse_y)"
   ]
  },
  {
   "cell_type": "code",
   "execution_count": 6,
   "metadata": {},
   "outputs": [
    {
     "name": "stdout",
     "output_type": "stream",
     "text": [
      "Size of Train Set is: 40000\n",
      "Size of Validation Set is: 10000\n",
      "Size of Test Set is: 10000\n"
     ]
    }
   ],
   "source": [
    "(train_X, train_fine_y, train_coarse_y,\n",
    "valid_X, valid_fine_y, valid_coarse_y,\n",
    "test_X, test_fine_y, test_coarse_y) = train_validate_test (train, test, valid_size=.2)"
   ]
  },
  {
   "cell_type": "code",
   "execution_count": null,
   "metadata": {},
   "outputs": [],
   "source": []
  },
  {
   "cell_type": "code",
   "execution_count": 7,
   "metadata": {},
   "outputs": [
    {
     "data": {
      "image/png": "[encoded data removed]",
      "text/plain": [
       "<matplotlib.figure.Figure at 0x181b6b7da0>"
      ]
     },
     "metadata": {},
     "output_type": "display_data"
    }
   ],
   "source": [
    "# just to check if I reshaped correctly\n",
    "index = 5\n",
    "test_image = test_X[index]\n",
    "#test_class = test_fine_y[index]\n",
    "#test_super_class = test_coarse_y[index]\n",
    "#print (fine_labels[test_class])\n",
    "#print (coarse_labels[test_super_class])\n",
    "plt.imshow(test_image)\n",
    "plt.show()"
   ]
  },
  {
   "cell_type": "code",
   "execution_count": 8,
   "metadata": {
    "collapsed": true
   },
   "outputs": [],
   "source": [
    "batch_size = 100\n",
    "epochs = 3"
   ]
  },
  {
   "cell_type": "code",
   "execution_count": null,
   "metadata": {
    "collapsed": true
   },
   "outputs": [],
   "source": [
    "from keras.applications import VGG16\n",
    "\n",
    "conv_base = VGG16(\n",
    "weights='imagenet',\n",
    "include_top=False,\n",
    "input_shape=(32,32,3)\n",
    ")\n"
   ]
  },
  {
   "cell_type": "code",
   "execution_count": 9,
   "metadata": {},
   "outputs": [
    {
     "name": "stdout",
     "output_type": "stream",
     "text": [
      "_________________________________________________________________\n",
      "Layer (type)                 Output Shape              Param #   \n",
      "=================================================================\n",
      "conv2d_1 (Conv2D)            (None, 27, 27, 32)        3488      \n",
      "_________________________________________________________________\n",
      "max_pooling2d_1 (MaxPooling2 (None, 6, 6, 32)          0         \n",
      "_________________________________________________________________\n",
      "batch_normalization_1 (Batch (None, 6, 6, 32)          128       \n",
      "_________________________________________________________________\n",
      "separable_conv2d_1 (Separabl (None, 4, 4, 32)          1344      \n",
      "_________________________________________________________________\n",
      "flatten_1 (Flatten)          (None, 512)               0         \n",
      "_________________________________________________________________\n",
      "dense_1 (Dense)              (None, 64)                32832     \n",
      "_________________________________________________________________\n",
      "dropout_1 (Dropout)          (None, 64)                0         \n",
      "_________________________________________________________________\n",
      "dense_2 (Dense)              (None, 100)               6500      \n",
      "=================================================================\n",
      "Total params: 44,292\n",
      "Trainable params: 44,228\n",
      "Non-trainable params: 64\n",
      "_________________________________________________________________\n"
     ]
    }
   ],
   "source": [
    "# try gray scale?\n",
    "def create_model():\n",
    "    model = models.Sequential()\n",
    "    model.add(layers.Conv2D(\n",
    "        32,\n",
    "        (6, 6),\n",
    "        activation='relu',\n",
    "        input_shape=(32, 32, 3)\n",
    "    ))\n",
    "\n",
    "    model.add(layers.MaxPool2D(\n",
    "        (4, 4)\n",
    "    ))\n",
    "\n",
    "    model.add(BatchNormalization())\n",
    "\n",
    "    model.add(layers.SeparableConv2D(\n",
    "        32, 3,\n",
    "        activation='relu',\n",
    "        input_shape=(20, 20, 3)\n",
    "    ))\n",
    "\n",
    "    model.add(layers.Flatten())\n",
    "\n",
    "    model.add(layers.Dense(\n",
    "        64,\n",
    "        kernel_regularizer=regularizers.l2(0.001),\n",
    "        #kernel_regularizer=regularizers.l1_l2(l1=0.001, l2=0.001),\n",
    "        activation='relu'\n",
    "    ))\n",
    "\n",
    "    model.add(layers.Dropout(.5))\n",
    "    model.add(layers.Dense(100, activation='softmax'))\n",
    "    return model\n",
    "\n",
    "\n",
    "model = create_model()\n",
    "model.summary()"
   ]
  },
  {
   "cell_type": "code",
   "execution_count": 10,
   "metadata": {},
   "outputs": [],
   "source": [
    "# data augmentation\n",
    "from keras.preprocessing.image import ImageDataGenerator\n",
    "\n",
    "train_datagen = ImageDataGenerator(\n",
    "    width_shift_range=0.2,\n",
    "    height_shift_range=0.2,\n",
    "    shear_range=0.2,\n",
    "    zoom_range=0.2,\n",
    "    rotation_range=30,\n",
    "    horizontal_flip=True,\n",
    "    vertical_flip=True,\n",
    "    fill_mode='nearest')\n",
    "\n",
    "train_X_aug = train_datagen.flow(train_X, train_fine_y, batch_size=batch_size)\n",
    "\n",
    "valid_datagen = ImageDataGenerator()\n",
    "valid_fine_y_aug = valid_datagen.flow(valid_X, valid_fine_y, batch_size=batch_size)\n",
    "\n",
    "#training_set"
   ]
  },
  {
   "cell_type": "code",
   "execution_count": 11,
   "metadata": {
    "collapsed": true
   },
   "outputs": [],
   "source": [
    "from keras.callbacks import ModelCheckpoint, LearningRateScheduler, \\\n",
    "                            EarlyStopping, ReduceLROnPlateau\n",
    "\n",
    "weight_path=\"{}_weights.best.hdf5\".format('CNN2')\n",
    "\n",
    "checkpoint = ModelCheckpoint(weight_path, \n",
    "                             monitor='val_loss', \n",
    "                             verbose=1, \n",
    "                             save_best_only=True, \n",
    "                             mode='min', \n",
    "                             save_weights_only=True)\n",
    "\n",
    "\n",
    "reduceLROnPlat = ReduceLROnPlateau(monitor='val_loss', factor=0.2,\n",
    "                                   patience=1, verbose=1, mode='min',\n",
    "                                   min_delta=0.0001, cooldown=2, min_lr=1e-7)\n",
    "\n",
    "def step_decay(epoch):\n",
    "    initial_lrate = 0.0001\n",
    "    drop = 0.5\n",
    "    epochs_drop = 10.0\n",
    "    lrate = initial_lrate * math.pow(drop, math.floor((1+epoch)/epochs_drop))\n",
    "    return lrate\n",
    "\n",
    "lrate = LearningRateScheduler(step_decay) # can place this in call_backs_list\n",
    "\n",
    "early = EarlyStopping(monitor=\"val_loss\", mode=\"min\", verbose=2,\n",
    "                      patience=5)\n",
    "\n",
    "callbacks_list = [checkpoint, early, reduceLROnPlat]"
   ]
  },
  {
   "cell_type": "code",
   "execution_count": 12,
   "metadata": {},
   "outputs": [],
   "source": [
    "from keras import optimizers\n",
    "model.compile(#optimizer='rmsprop',\n",
    "              optimizer=optimizers.RMSprop(lr=1e-4),\n",
    "             loss='categorical_crossentropy',\n",
    "            \n",
    "             metrics=['accuracy'])"
   ]
  },
  {
   "cell_type": "code",
   "execution_count": 13,
   "metadata": {},
   "outputs": [
    {
     "name": "stdout",
     "output_type": "stream",
     "text": [
      "Epoch 1/3\n",
      "400/400 [==============================] - 51s 128ms/step - loss: 4.6875 - acc: 0.0156 - val_loss: 4.6163 - val_acc: 0.0212\n",
      "\n",
      "Epoch 00001: val_loss improved from inf to 4.61634, saving model to CNN2_weights.best.hdf5\n",
      "Epoch 2/3\n",
      "400/400 [==============================] - 49s 122ms/step - loss: 4.5980 - acc: 0.0248 - val_loss: 4.4876 - val_acc: 0.0393\n",
      "\n",
      "Epoch 00002: val_loss improved from 4.61634 to 4.48764, saving model to CNN2_weights.best.hdf5\n",
      "Epoch 3/3\n",
      "400/400 [==============================] - 62s 155ms/step - loss: 4.5101 - acc: 0.0334 - val_loss: 4.3767 - val_acc: 0.0524\n",
      "\n",
      "Epoch 00003: val_loss improved from 4.48764 to 4.37670, saving model to CNN2_weights.best.hdf5\n"
     ]
    }
   ],
   "source": [
    "history = model.fit_generator(train_X_aug,\n",
    "                               validation_data=valid_fine_y_aug,\n",
    "                               steps_per_epoch= round (len(train_X) / batch_size),\n",
    "                               epochs=epochs,\n",
    "                               validation_steps=round (len(valid_X) / batch_size),\n",
    "                               callbacks=callbacks_list)"
   ]
  },
  {
   "cell_type": "code",
   "execution_count": 14,
   "metadata": {},
   "outputs": [
    {
     "data": {
      "image/png": "[encoded data removed]",
      "text/plain": [
       "<matplotlib.figure.Figure at 0x1820a72f60>"
      ]
     },
     "metadata": {},
     "output_type": "display_data"
    }
   ],
   "source": [
    "history_dict = history.history\n",
    "loss_values = history_dict['loss']\n",
    "val_loss_values = history_dict['val_loss']\n",
    "epochs = range(1, len(loss_values) + 1)\n",
    "\n",
    "plt.plot (epochs, loss_values, 'bo', label='Training loss')\n",
    "plt.plot (epochs, val_loss_values, 'b', label=\"validation loss\")\n",
    "plt.title('Training and validation loss')\n",
    "plt.xlabel('Epochs')\n",
    "plt.ylabel('Loss')\n",
    "plt.legend()\n",
    "plt.show()"
   ]
  },
  {
   "cell_type": "code",
   "execution_count": 15,
   "metadata": {},
   "outputs": [
    {
     "data": {
      "image/png": "[encoded data removed]",
      "text/plain": [
       "<matplotlib.figure.Figure at 0x109468b00>"
      ]
     },
     "metadata": {},
     "output_type": "display_data"
    }
   ],
   "source": [
    "plt.clf()\n",
    "acc = history_dict['acc']\n",
    "val_acc = history_dict['val_acc']\n",
    "plt.plot (epochs, acc, 'bo', label='Training accuracy')\n",
    "plt.plot (epochs, val_acc, 'b', label=\"validation accuracy\")\n",
    "plt.title('Training and validation accuracy')\n",
    "plt.xlabel('Epochs')\n",
    "plt.ylabel('Accuracy')\n",
    "plt.legend()\n",
    "plt.show()"
   ]
  },
  {
   "cell_type": "code",
   "execution_count": 16,
   "metadata": {},
   "outputs": [
    {
     "name": "stdout",
     "output_type": "stream",
     "text": [
      "10000/10000 [==============================] - 6s 612us/step\n"
     ]
    },
    {
     "data": {
      "text/plain": [
       "[4.372365916442871, 0.0547]"
      ]
     },
     "execution_count": 16,
     "metadata": {},
     "output_type": "execute_result"
    }
   ],
   "source": [
    "model.evaluate(test_X, test_fine_y)"
   ]
  },
  {
   "cell_type": "code",
   "execution_count": null,
   "metadata": {
    "collapsed": true
   },
   "outputs": [],
   "source": []
  }
 ],
 "metadata": {
  "kernelspec": {
   "display_name": "Python 3",
   "language": "python",
   "name": "python3"
  },
  "language_info": {
   "codemirror_mode": {
    "name": "ipython",
    "version": 3
   },
   "file_extension": ".py",
   "mimetype": "text/x-python",
   "name": "python",
   "nbconvert_exporter": "python",
   "pygments_lexer": "ipython3",
   "version": "3.6.3"
  },
  "toc": {
   "base_numbering": 1,
   "nav_menu": {},
   "number_sections": true,
   "sideBar": true,
   "skip_h1_title": false,
   "title_cell": "Table of Contents",
   "title_sidebar": "Contents",
   "toc_cell": false,
   "toc_position": {},
   "toc_section_display": true,
   "toc_window_display": false
  }
 },
 "nbformat": 4,
 "nbformat_minor": 2
}
